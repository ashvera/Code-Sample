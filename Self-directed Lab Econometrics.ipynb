{
 "cells": [
  {
   "cell_type": "markdown",
   "metadata": {},
   "source": [
    "# Life Expectancy Lab"
   ]
  },
  {
   "cell_type": "markdown",
   "metadata": {},
   "source": [
    "# <font color = red> Problem Statement</font> \n",
    "\n"
   ]
  },
  {
   "cell_type": "markdown",
   "metadata": {},
   "source": [
    "Over the past few years, the overall life expectancy in the United States has decreased. And even more recently, the topic of health has been on everyone's mind. In this lab, I would like to examine the causes for differences in life expectancy across states, and create a complex model to determine if health discrepancies are due to economic reasons, mental health or our healthcare infrastructure. "
   ]
  },
  {
   "cell_type": "markdown",
   "metadata": {},
   "source": [
    "# <font color = red> Documentation </font>\n",
    "\n"
   ]
  },
  {
   "cell_type": "markdown",
   "metadata": {},
   "source": [
    "## <font color = blue> Abstract  </font>"
   ]
  },
  {
   "cell_type": "markdown",
   "metadata": {},
   "source": [
    "In this lab, I learned that health insurance coverage plays a large part in life expectancy. Contrary to expectation, other economic factors, such as median income, did not have a significant relationship. However, the results are still meaningful because it emphasizes the importance of health coverage on overall health. Our model showed a relatively large R-squared value, implying that it is quite significant. Using VIFs and White's Test, we also determined that the model was neither multicollinear to a large degree nor heteroskedastic. "
   ]
  },
  {
   "cell_type": "markdown",
   "metadata": {},
   "source": [
    "## <font color = blue> Data Dictionary  </font>"
   ]
  },
  {
   "cell_type": "markdown",
   "metadata": {},
   "source": [
    "| Variable | Values   | Source | Mnemonic |\n",
    "|----------|----------|--------|---------|\n",
    "|  Life Expectancy, by State | Years | Statistical Abstract, 2012 | lifeExpect |\n",
    "|  Median Household Income, by State | 2009 US\\$ | US Census Bureau | income |\n",
    "|  Individuals Below Poverty Line, by State | Percent | Statistical Abstract, 2012 | poverty |\n",
    "|  Active Physicians, by State | Per 100,000 residents | Statistical Abstract, 2012 | income |\n",
    "|  Uninsured People, by State | Per 100,000 residents | US Census Bureau | uninsured |\n",
    "|  Age-adjusted Self-harm Death Rate, by State | Percent | Statistical Abstract, 2012 | selfharm |\n",
    "|  Census Region | Northeast,South,Midwest,West | Sakai | region|"
   ]
  },
  {
   "cell_type": "markdown",
   "metadata": {},
   "source": [
    "# <font color = red> Pre-lab </font>\n",
    "\n"
   ]
  },
  {
   "cell_type": "markdown",
   "metadata": {},
   "source": [
    "This data was acquired from a published source, so it is secondary data. It is cross sectional, since it includes information across states in a given year.\n",
    "\n",
    "In determining the independent variables to be used in this lab, 3 main factors were considered: economic causes, mental health, and healthcare infrastructure. First, economics causes of health include the poverty rate in each state and the median income. Intuitively, I would assume that wealthier states will have better access to healthier foods and preventative medicine. Thus, they should have lower rates of hospitalization and better health outcomes. So I expect that the poverty rate will be negatively correlated with life expectancy, while income should be positively correlated. \n",
    "\n",
    "Next, mental health can be an indicator of overall physical health as well. Communities where people suffer from mental illness may also deal with low income/high stress situations that exacerbate mental health problems. The data set that encompasses major mental health deficits is the self-harm, or suicide, death rate. I believe this is an imperfect measurement, but there was not enough data available on the incidence of mental illness by state. Nonetheless, it should be negatively correlated with overall life expectancy. \n",
    "\n",
    "Lastly, we must take into account healthcare infrastructure. One of the most important components of good health is access to physiciansm whether for prevention or treatment. So the number of active physicians in each state should be positively correlated with life expectancy. However, affordability and coverage also plays an important part. People may not participate in the healthcare system if they don't have health insurance. So the rate of uninsured people should be negatively correlated with health. States have some jurisdiction over government-funded health insurance plans so it would be interesting to note if these discrepancies affect overall health in that state. \n",
    "\n",
    "Finally, we will also use dummy variables to consider regional differences in health. \n",
    "\n",
    "\n",
    "A tentative specific model for the testable hypothesis is given by: \n",
    "\n",
    "LifeExpectancy = $\\beta_0$ + $\\beta_1$ Income + $\\beta_2$ Poverty + $\\beta_3$ Physicians + $\\beta_4$ Uninsured + $\\beta_5$ Self-harm+ $\\gamma_2$D2 +  $\\gamma_3$D3 + $\\gamma_4$D4 + $\\epsilon$\n",
    "\n",
    "where $\\beta_1$, $\\beta_3$ are positive parameters, while $\\beta_2$, $\\beta_4$, $\\beta_5$ are negative parameters. \n",
    "\n",
    "\n",
    "The first region, the Midwest, will be represented by the dummy variable D1, which is included in the estimate for $\\beta_0$. It does not appear in the specific model to prevent linear dependence. The second binary dummy variable, D2, will equal 1 if the state is in the Northeast, and 0 otherwise. Similarly, D3 will be a boolean for the Southern region, and D4 will be used for the West. With every data point, at most one $\\gamma_i$ will be present in the equation because a state cannot be in two regions at once. \n",
    "\n",
    "Finally, $\\epsilon$ is a disturbance term. \n",
    "\n",
    "The statistical hypotheses that go along with the independent variables in the testable hypothesis are: \n",
    "\n",
    "| Null Hypotheses          | Alternative Hypotheses   |\n",
    "|--------------------------|--------------------------|\n",
    "| $H_{0, 1}: \\beta_1 = 0$  | $H_{A, 1}: \\beta_1 > 0$  |\n",
    "| $H_{0, 2}: \\beta_2 = 0$  | $H_{A, 2}: \\beta_2 < 0$  |\n",
    "| $H_{0, 3}: \\beta_3 = 0$  | $H_{A, 3}: \\beta_3 > 0$  |\n",
    "| $H_{0, 4}: \\beta_4 = 0$  | $H_{A, 4}: \\beta_4 < 0$  |\n",
    "| $H_{0, 5}: \\beta_5 = 0$  | $H_{A, 5}: \\beta_5 < 0$  |\n",
    "\n",
    "Dummies for a single concept are not independent, so we must test them together. Since we do not know how the regional parameters will affect health, we can write the statistical hypothesis for the regional dummy variables as: \n",
    " \n",
    "\n",
    "$H_{0}: \\gamma_2 = \\gamma_3 = \\gamma_4 = 0$  \n",
    "$H_{A}:$ At least one $\\gamma_i \\neq 0 $\n"
   ]
  },
  {
   "cell_type": "markdown",
   "metadata": {},
   "source": [
    "# <font color = red> Analysis </font>\n"
   ]
  },
  {
   "cell_type": "code",
   "execution_count": 1,
   "metadata": {},
   "outputs": [],
   "source": [
    "##\n",
    "## import packages\n",
    "##\n",
    "import numpy as np\n",
    "import pandas as pd\n",
    "##\n",
    "## for modeling\n",
    "##\n",
    "import statsmodels.api as sm\n",
    "import statsmodels.formula.api as smf \n",
    "from statsmodels.iolib.summary2 import summary_col\n",
    "from statsmodels.stats.api import anova_lm\n",
    "##\n",
    "## for plotting\n",
    "##\n",
    "import matplotlib.pyplot as plt\n",
    "import seaborn as sns"
   ]
  },
  {
   "cell_type": "code",
   "execution_count": 2,
   "metadata": {},
   "outputs": [
    {
     "data": {
      "text/html": [
       "<div>\n",
       "<style scoped>\n",
       "    .dataframe tbody tr th:only-of-type {\n",
       "        vertical-align: middle;\n",
       "    }\n",
       "\n",
       "    .dataframe tbody tr th {\n",
       "        vertical-align: top;\n",
       "    }\n",
       "\n",
       "    .dataframe thead th {\n",
       "        text-align: right;\n",
       "    }\n",
       "</style>\n",
       "<table border=\"1\" class=\"dataframe\">\n",
       "  <thead>\n",
       "    <tr style=\"text-align: right;\">\n",
       "      <th></th>\n",
       "      <th>region</th>\n",
       "      <th>lifeExpect</th>\n",
       "      <th>income</th>\n",
       "      <th>poverty</th>\n",
       "      <th>physicians</th>\n",
       "      <th>uninsured</th>\n",
       "      <th>selfharm</th>\n",
       "    </tr>\n",
       "    <tr>\n",
       "      <th>state</th>\n",
       "      <th></th>\n",
       "      <th></th>\n",
       "      <th></th>\n",
       "      <th></th>\n",
       "      <th></th>\n",
       "      <th></th>\n",
       "      <th></th>\n",
       "    </tr>\n",
       "  </thead>\n",
       "  <tbody>\n",
       "    <tr>\n",
       "      <td>Alabama</td>\n",
       "      <td>South</td>\n",
       "      <td>73.64</td>\n",
       "      <td>42143.5</td>\n",
       "      <td>17.535426</td>\n",
       "      <td>218.000352</td>\n",
       "      <td>13.6</td>\n",
       "      <td>12.5</td>\n",
       "    </tr>\n",
       "    <tr>\n",
       "      <td>Alaska</td>\n",
       "      <td>West</td>\n",
       "      <td>74.83</td>\n",
       "      <td>62675.0</td>\n",
       "      <td>9.034571</td>\n",
       "      <td>225.348725</td>\n",
       "      <td>18.6</td>\n",
       "      <td>22.1</td>\n",
       "    </tr>\n",
       "    <tr>\n",
       "      <td>Arizona</td>\n",
       "      <td>West</td>\n",
       "      <td>76.10</td>\n",
       "      <td>46237.5</td>\n",
       "      <td>16.522268</td>\n",
       "      <td>213.030214</td>\n",
       "      <td>19.1</td>\n",
       "      <td>16.1</td>\n",
       "    </tr>\n",
       "    <tr>\n",
       "      <td>Arkansas</td>\n",
       "      <td>South</td>\n",
       "      <td>74.33</td>\n",
       "      <td>37987.0</td>\n",
       "      <td>18.794279</td>\n",
       "      <td>204.260326</td>\n",
       "      <td>17.7</td>\n",
       "      <td>14.3</td>\n",
       "    </tr>\n",
       "    <tr>\n",
       "      <td>California</td>\n",
       "      <td>West</td>\n",
       "      <td>75.86</td>\n",
       "      <td>56466.0</td>\n",
       "      <td>14.166614</td>\n",
       "      <td>270.905011</td>\n",
       "      <td>18.9</td>\n",
       "      <td>9.8</td>\n",
       "    </tr>\n",
       "  </tbody>\n",
       "</table>\n",
       "</div>"
      ],
      "text/plain": [
       "           region  lifeExpect   income    poverty  physicians  uninsured  \\\n",
       "state                                                                      \n",
       "Alabama     South       73.64  42143.5  17.535426  218.000352       13.6   \n",
       "Alaska       West       74.83  62675.0   9.034571  225.348725       18.6   \n",
       "Arizona      West       76.10  46237.5  16.522268  213.030214       19.1   \n",
       "Arkansas    South       74.33  37987.0  18.794279  204.260326       17.7   \n",
       "California   West       75.86  56466.0  14.166614  270.905011       18.9   \n",
       "\n",
       "            selfharm  \n",
       "state                 \n",
       "Alabama         12.5  \n",
       "Alaska          22.1  \n",
       "Arizona         16.1  \n",
       "Arkansas        14.3  \n",
       "California       9.8  "
      ]
     },
     "execution_count": 2,
     "metadata": {},
     "output_type": "execute_result"
    }
   ],
   "source": [
    "df= pd.read_excel( 'life expectancy.xls', index_col = 'state' )\n",
    "df.head()"
   ]
  },
  {
   "cell_type": "markdown",
   "metadata": {},
   "source": [
    "## <font color = blue> Graphs</font>"
   ]
  },
  {
   "cell_type": "code",
   "execution_count": 3,
   "metadata": {},
   "outputs": [
    {
     "data": {
      "text/plain": [
       "<seaborn.axisgrid.FacetGrid at 0x1c240fe6d0>"
      ]
     },
     "execution_count": 3,
     "metadata": {},
     "output_type": "execute_result"
    },
    {
     "data": {
      "image/png": "[encoded data removed]",
      "text/plain": [
       "<Figure size 445.25x360 with 1 Axes>"
      ]
     },
     "metadata": {
      "needs_background": "light"
     },
     "output_type": "display_data"
    }
   ],
   "source": [
    "## life expectancy vs income\n",
    "sns.relplot( y = 'lifeExpect', x = 'income', hue = 'region', data = df )"
   ]
  },
  {
   "cell_type": "code",
   "execution_count": 4,
   "metadata": {},
   "outputs": [
    {
     "data": {
      "text/plain": [
       "<seaborn.axisgrid.FacetGrid at 0x1c24a117d0>"
      ]
     },
     "execution_count": 4,
     "metadata": {},
     "output_type": "execute_result"
    },
    {
     "data": {
      "image/png": "[encoded data removed]",
      "text/plain": [
       "<Figure size 445.25x360 with 1 Axes>"
      ]
     },
     "metadata": {
      "needs_background": "light"
     },
     "output_type": "display_data"
    }
   ],
   "source": [
    "## removing outlier\n",
    "df_subset = df.query( 'lifeExpect > 70' )\n",
    "\n",
    "## life expectancy vs income\n",
    "sns.relplot( y = 'lifeExpect', x = 'income', hue = 'region', data = df_subset )"
   ]
  },
  {
   "cell_type": "code",
   "execution_count": 5,
   "metadata": {},
   "outputs": [
    {
     "data": {
      "text/plain": [
       "<seaborn.axisgrid.FacetGrid at 0x1c24c6a390>"
      ]
     },
     "execution_count": 5,
     "metadata": {},
     "output_type": "execute_result"
    },
    {
     "data": {
      "image/png": "[encoded data removed]",
      "text/plain": [
       "<Figure size 445.25x360 with 1 Axes>"
      ]
     },
     "metadata": {
      "needs_background": "light"
     },
     "output_type": "display_data"
    }
   ],
   "source": [
    "## life expectancy vs uninsured rate\n",
    "sns.relplot( y = 'lifeExpect', x = 'uninsured', hue = 'region', data = df_subset )"
   ]
  },
  {
   "cell_type": "code",
   "execution_count": 40,
   "metadata": {},
   "outputs": [
    {
     "data": {
      "text/plain": [
       "<seaborn.axisgrid.FacetGrid at 0x1c25433310>"
      ]
     },
     "execution_count": 40,
     "metadata": {},
     "output_type": "execute_result"
    },
    {
     "data": {
      "image/png": "[encoded data removed]",
      "text/plain": [
       "<Figure size 445.25x360 with 1 Axes>"
      ]
     },
     "metadata": {
      "needs_background": "light"
     },
     "output_type": "display_data"
    }
   ],
   "source": [
    "## life expectancy vs poverty rate\n",
    "sns.relplot( y = 'lifeExpect', x = 'poverty', hue = 'region', data = df_subset )"
   ]
  },
  {
   "cell_type": "code",
   "execution_count": 41,
   "metadata": {},
   "outputs": [
    {
     "data": {
      "text/plain": [
       "<seaborn.axisgrid.FacetGrid at 0x1c25a8cf50>"
      ]
     },
     "execution_count": 41,
     "metadata": {},
     "output_type": "execute_result"
    },
    {
     "data": {
      "image/png": "[encoded data removed]",
      "text/plain": [
       "<Figure size 445.25x360 with 1 Axes>"
      ]
     },
     "metadata": {
      "needs_background": "light"
     },
     "output_type": "display_data"
    }
   ],
   "source": [
    "## life expectancy vs physician rate\n",
    "sns.relplot( y = 'lifeExpect', x = 'physicians', hue = 'region', data = df_subset )"
   ]
  },
  {
   "cell_type": "code",
   "execution_count": 42,
   "metadata": {},
   "outputs": [
    {
     "data": {
      "text/plain": [
       "<seaborn.axisgrid.FacetGrid at 0x1c26122250>"
      ]
     },
     "execution_count": 42,
     "metadata": {},
     "output_type": "execute_result"
    },
    {
     "data": {
      "image/png": "[encoded data removed]",
      "text/plain": [
       "<Figure size 445.25x360 with 1 Axes>"
      ]
     },
     "metadata": {
      "needs_background": "light"
     },
     "output_type": "display_data"
    }
   ],
   "source": [
    "## life expectancy vs low mental health\n",
    "sns.relplot( y = 'lifeExpect', x = 'selfharm', hue = 'region', data = df_subset )"
   ]
  },
  {
   "cell_type": "markdown",
   "metadata": {},
   "source": [
    "## <font color = blue> Correlation Matrix & Graph </font>"
   ]
  },
  {
   "cell_type": "code",
   "execution_count": 8,
   "metadata": {},
   "outputs": [
    {
     "data": {
      "text/html": [
       "<div>\n",
       "<style scoped>\n",
       "    .dataframe tbody tr th:only-of-type {\n",
       "        vertical-align: middle;\n",
       "    }\n",
       "\n",
       "    .dataframe tbody tr th {\n",
       "        vertical-align: top;\n",
       "    }\n",
       "\n",
       "    .dataframe thead th {\n",
       "        text-align: right;\n",
       "    }\n",
       "</style>\n",
       "<table border=\"1\" class=\"dataframe\">\n",
       "  <thead>\n",
       "    <tr style=\"text-align: right;\">\n",
       "      <th></th>\n",
       "      <th>lifeExpect</th>\n",
       "      <th>income</th>\n",
       "      <th>poverty</th>\n",
       "      <th>physicians</th>\n",
       "      <th>uninsured</th>\n",
       "      <th>selfharm</th>\n",
       "    </tr>\n",
       "  </thead>\n",
       "  <tbody>\n",
       "    <tr>\n",
       "      <td>lifeExpect</td>\n",
       "      <td>1.000000</td>\n",
       "      <td>0.505759</td>\n",
       "      <td>-0.604719</td>\n",
       "      <td>0.234769</td>\n",
       "      <td>-0.515599</td>\n",
       "      <td>-0.033639</td>\n",
       "    </tr>\n",
       "    <tr>\n",
       "      <td>income</td>\n",
       "      <td>0.505759</td>\n",
       "      <td>1.000000</td>\n",
       "      <td>-0.889013</td>\n",
       "      <td>0.518693</td>\n",
       "      <td>-0.379143</td>\n",
       "      <td>-0.286796</td>\n",
       "    </tr>\n",
       "    <tr>\n",
       "      <td>poverty</td>\n",
       "      <td>-0.604719</td>\n",
       "      <td>-0.889013</td>\n",
       "      <td>1.000000</td>\n",
       "      <td>-0.492015</td>\n",
       "      <td>0.567257</td>\n",
       "      <td>0.217797</td>\n",
       "    </tr>\n",
       "    <tr>\n",
       "      <td>physicians</td>\n",
       "      <td>0.234769</td>\n",
       "      <td>0.518693</td>\n",
       "      <td>-0.492015</td>\n",
       "      <td>1.000000</td>\n",
       "      <td>-0.508110</td>\n",
       "      <td>-0.599792</td>\n",
       "    </tr>\n",
       "    <tr>\n",
       "      <td>uninsured</td>\n",
       "      <td>-0.515599</td>\n",
       "      <td>-0.379143</td>\n",
       "      <td>0.567257</td>\n",
       "      <td>-0.508110</td>\n",
       "      <td>1.000000</td>\n",
       "      <td>0.406630</td>\n",
       "    </tr>\n",
       "    <tr>\n",
       "      <td>selfharm</td>\n",
       "      <td>-0.033639</td>\n",
       "      <td>-0.286796</td>\n",
       "      <td>0.217797</td>\n",
       "      <td>-0.599792</td>\n",
       "      <td>0.406630</td>\n",
       "      <td>1.000000</td>\n",
       "    </tr>\n",
       "  </tbody>\n",
       "</table>\n",
       "</div>"
      ],
      "text/plain": [
       "            lifeExpect    income   poverty  physicians  uninsured  selfharm\n",
       "lifeExpect    1.000000  0.505759 -0.604719    0.234769  -0.515599 -0.033639\n",
       "income        0.505759  1.000000 -0.889013    0.518693  -0.379143 -0.286796\n",
       "poverty      -0.604719 -0.889013  1.000000   -0.492015   0.567257  0.217797\n",
       "physicians    0.234769  0.518693 -0.492015    1.000000  -0.508110 -0.599792\n",
       "uninsured    -0.515599 -0.379143  0.567257   -0.508110   1.000000  0.406630\n",
       "selfharm     -0.033639 -0.286796  0.217797   -0.599792   0.406630  1.000000"
      ]
     },
     "execution_count": 8,
     "metadata": {},
     "output_type": "execute_result"
    }
   ],
   "source": [
    "df_subset.corr()"
   ]
  },
  {
   "cell_type": "code",
   "execution_count": 9,
   "metadata": {},
   "outputs": [
    {
     "data": {
      "image/png": "[encoded data removed]",
      "text/plain": [
       "<Figure size 432x288 with 2 Axes>"
      ]
     },
     "metadata": {
      "needs_background": "light"
     },
     "output_type": "display_data"
    }
   ],
   "source": [
    "sns.heatmap( df_subset.corr() );"
   ]
  },
  {
   "cell_type": "markdown",
   "metadata": {},
   "source": [
    "## <font color = blue> OLS Model </font>"
   ]
  },
  {
   "cell_type": "code",
   "execution_count": 10,
   "metadata": {
    "scrolled": false
   },
   "outputs": [
    {
     "name": "stdout",
     "output_type": "stream",
     "text": [
      "                            OLS Regression Results                            \n",
      "==============================================================================\n",
      "Dep. Variable:             lifeExpect   R-squared:                       0.635\n",
      "Model:                            OLS   Adj. R-squared:                  0.564\n",
      "Method:                 Least Squares   F-statistic:                     8.934\n",
      "Date:                Thu, 30 Apr 2020   Prob (F-statistic):           5.47e-07\n",
      "Time:                        19:24:26   Log-Likelihood:                -58.122\n",
      "No. Observations:                  50   AIC:                             134.2\n",
      "Df Residuals:                      41   BIC:                             151.5\n",
      "Df Model:                           8                                         \n",
      "Covariance Type:            nonrobust                                         \n",
      "==========================================================================================\n",
      "                             coef    std err          t      P>|t|      [0.025      0.975]\n",
      "------------------------------------------------------------------------------------------\n",
      "Intercept                 80.7374      3.903     20.688      0.000      72.856      88.619\n",
      "C(region)[T.Northeast]    -0.5140      0.468     -1.098      0.279      -1.459       0.432\n",
      "C(region)[T.South]        -1.2103      0.397     -3.048      0.004      -2.012      -0.408\n",
      "C(region)[T.West]          0.5710      0.508      1.124      0.268      -0.455       1.597\n",
      "poverty                   -0.1437      0.114     -1.257      0.216      -0.374       0.087\n",
      "income                 -1.727e-05   4.51e-05     -0.383      0.704      -0.000    7.38e-05\n",
      "physicians                -0.0006      0.003     -0.177      0.860      -0.007       0.006\n",
      "selfharm                  -0.0376      0.062     -0.608      0.546      -0.162       0.087\n",
      "uninsured                 -0.0898      0.050     -1.779      0.083      -0.192       0.012\n",
      "==============================================================================\n",
      "Omnibus:                        0.174   Durbin-Watson:                   2.396\n",
      "Prob(Omnibus):                  0.917   Jarque-Bera (JB):                0.244\n",
      "Skew:                          -0.130   Prob(JB):                        0.885\n",
      "Kurtosis:                       2.777   Cond. No.                     1.64e+06\n",
      "==============================================================================\n",
      "\n",
      "Warnings:\n",
      "[1] Standard Errors assume that the covariance matrix of the errors is correctly specified.\n",
      "[2] The condition number is large, 1.64e+06. This might indicate that there are\n",
      "strong multicollinearity or other numerical problems.\n"
     ]
    }
   ],
   "source": [
    "## unrestricted model \n",
    "formula = 'lifeExpect ~ poverty + income + physicians + selfharm + uninsured + C(region)'\n",
    "mod = smf.ols( formula, data = df_subset )\n",
    "reg01 = mod.fit()\n",
    "print( reg01.summary() )"
   ]
  },
  {
   "cell_type": "markdown",
   "metadata": {},
   "source": [
    "## <font color = blue> Test the null hypothesis for dummy variables </font>"
   ]
  },
  {
   "cell_type": "code",
   "execution_count": 12,
   "metadata": {},
   "outputs": [
    {
     "name": "stdout",
     "output_type": "stream",
     "text": [
      "\n",
      "F-Stat: 6.765\n",
      "\n",
      "p-value for F-Test: 0.0\n",
      "\n",
      "Significant so reject H0\n"
     ]
    }
   ],
   "source": [
    "hypothesis = ' ( C(region)[T.Northeast] = 0, C(region)[T.South] = 0 , C(region)[T.West] = 0) '\n",
    "f_test = reg01.f_test( hypothesis )\n",
    "fval = round( float( f_test.fvalue ), 3 )\n",
    "pval = round( float( f_test.pvalue ), 2 )\n",
    "print( '\\nF-Stat: {}'.format( fval ) )\n",
    "print( '\\np-value for F-Test: {}'.format( pval ) )\n",
    "if pval < 0.05:\n",
    "    print( '\\nSignificant so reject H0' )\n",
    "else:\n",
    "    print( '\\nInsignificant so do not reject H0' )"
   ]
  },
  {
   "cell_type": "markdown",
   "metadata": {},
   "source": [
    "## <font color = blue> Model without Dummies </font>"
   ]
  },
  {
   "cell_type": "code",
   "execution_count": 19,
   "metadata": {},
   "outputs": [
    {
     "name": "stdout",
     "output_type": "stream",
     "text": [
      "                            OLS Regression Results                            \n",
      "==============================================================================\n",
      "Dep. Variable:             lifeExpect   R-squared:                       0.455\n",
      "Model:                            OLS   Adj. R-squared:                  0.393\n",
      "Method:                 Least Squares   F-statistic:                     7.347\n",
      "Date:                Thu, 30 Apr 2020   Prob (F-statistic):           4.43e-05\n",
      "Time:                        19:44:43   Log-Likelihood:                -68.175\n",
      "No. Observations:                  50   AIC:                             148.4\n",
      "Df Residuals:                      44   BIC:                             159.8\n",
      "Df Model:                           5                                         \n",
      "Covariance Type:            nonrobust                                         \n",
      "==============================================================================\n",
      "                 coef    std err          t      P>|t|      [0.025      0.975]\n",
      "------------------------------------------------------------------------------\n",
      "Intercept     76.9027      4.030     19.080      0.000      68.780      85.026\n",
      "poverty       -0.1139      0.130     -0.879      0.384      -0.375       0.147\n",
      "income      3.735e-05   4.81e-05      0.777      0.441   -5.95e-05       0.000\n",
      "physicians    -0.0021      0.003     -0.654      0.516      -0.008       0.004\n",
      "selfharm       0.0722      0.056      1.301      0.200      -0.040       0.184\n",
      "uninsured     -0.1355      0.054     -2.487      0.017      -0.245      -0.026\n",
      "==============================================================================\n",
      "Omnibus:                        6.885   Durbin-Watson:                   2.336\n",
      "Prob(Omnibus):                  0.032   Jarque-Bera (JB):                2.483\n",
      "Skew:                          -0.135   Prob(JB):                        0.289\n",
      "Kurtosis:                       1.942   Cond. No.                     1.43e+06\n",
      "==============================================================================\n",
      "\n",
      "Warnings:\n",
      "[1] Standard Errors assume that the covariance matrix of the errors is correctly specified.\n",
      "[2] The condition number is large, 1.43e+06. This might indicate that there are\n",
      "strong multicollinearity or other numerical problems.\n"
     ]
    }
   ],
   "source": [
    "## regression model without dummy variables\n",
    "formula = 'lifeExpect ~ poverty + income + physicians + selfharm + uninsured'\n",
    "mod = smf.ols( formula, data = df_subset )\n",
    "reg02 = mod.fit()\n",
    "print( reg02.summary() )"
   ]
  },
  {
   "cell_type": "markdown",
   "metadata": {},
   "source": [
    "## <font color = blue> Analyze VIFs </font>"
   ]
  },
  {
   "cell_type": "code",
   "execution_count": 20,
   "metadata": {},
   "outputs": [
    {
     "data": {
      "text/html": [
       "<div>\n",
       "<style scoped>\n",
       "    .dataframe tbody tr th:only-of-type {\n",
       "        vertical-align: middle;\n",
       "    }\n",
       "\n",
       "    .dataframe tbody tr th {\n",
       "        vertical-align: top;\n",
       "    }\n",
       "\n",
       "    .dataframe thead th {\n",
       "        text-align: right;\n",
       "    }\n",
       "</style>\n",
       "<table border=\"1\" class=\"dataframe\">\n",
       "  <thead>\n",
       "    <tr style=\"text-align: right;\">\n",
       "      <th></th>\n",
       "      <th>poverty</th>\n",
       "      <th>income</th>\n",
       "      <th>physicians</th>\n",
       "      <th>selfharm</th>\n",
       "      <th>uninsured</th>\n",
       "    </tr>\n",
       "  </thead>\n",
       "  <tbody>\n",
       "    <tr>\n",
       "      <td>poverty</td>\n",
       "      <td>1.000000</td>\n",
       "      <td>-0.889013</td>\n",
       "      <td>-0.492015</td>\n",
       "      <td>0.217797</td>\n",
       "      <td>0.567257</td>\n",
       "    </tr>\n",
       "    <tr>\n",
       "      <td>income</td>\n",
       "      <td>-0.889013</td>\n",
       "      <td>1.000000</td>\n",
       "      <td>0.518693</td>\n",
       "      <td>-0.286796</td>\n",
       "      <td>-0.379143</td>\n",
       "    </tr>\n",
       "    <tr>\n",
       "      <td>physicians</td>\n",
       "      <td>-0.492015</td>\n",
       "      <td>0.518693</td>\n",
       "      <td>1.000000</td>\n",
       "      <td>-0.599792</td>\n",
       "      <td>-0.508110</td>\n",
       "    </tr>\n",
       "    <tr>\n",
       "      <td>selfharm</td>\n",
       "      <td>0.217797</td>\n",
       "      <td>-0.286796</td>\n",
       "      <td>-0.599792</td>\n",
       "      <td>1.000000</td>\n",
       "      <td>0.406630</td>\n",
       "    </tr>\n",
       "    <tr>\n",
       "      <td>uninsured</td>\n",
       "      <td>0.567257</td>\n",
       "      <td>-0.379143</td>\n",
       "      <td>-0.508110</td>\n",
       "      <td>0.406630</td>\n",
       "      <td>1.000000</td>\n",
       "    </tr>\n",
       "  </tbody>\n",
       "</table>\n",
       "</div>"
      ],
      "text/plain": [
       "             poverty    income  physicians  selfharm  uninsured\n",
       "poverty     1.000000 -0.889013   -0.492015  0.217797   0.567257\n",
       "income     -0.889013  1.000000    0.518693 -0.286796  -0.379143\n",
       "physicians -0.492015  0.518693    1.000000 -0.599792  -0.508110\n",
       "selfharm    0.217797 -0.286796   -0.599792  1.000000   0.406630\n",
       "uninsured   0.567257 -0.379143   -0.508110  0.406630   1.000000"
      ]
     },
     "execution_count": 20,
     "metadata": {},
     "output_type": "execute_result"
    }
   ],
   "source": [
    "x = reg02.model.data.orig_exog.iloc[ :, 1: ] \n",
    "corr_matrix = x.corr()\n",
    "corr_matrix"
   ]
  },
  {
   "cell_type": "code",
   "execution_count": 22,
   "metadata": {
    "scrolled": true
   },
   "outputs": [
    {
     "data": {
      "text/html": [
       "<div>\n",
       "<style scoped>\n",
       "    .dataframe tbody tr th:only-of-type {\n",
       "        vertical-align: middle;\n",
       "    }\n",
       "\n",
       "    .dataframe tbody tr th {\n",
       "        vertical-align: top;\n",
       "    }\n",
       "\n",
       "    .dataframe thead th {\n",
       "        text-align: right;\n",
       "    }\n",
       "</style>\n",
       "<table border=\"1\" class=\"dataframe\">\n",
       "  <thead>\n",
       "    <tr style=\"text-align: right;\">\n",
       "      <th></th>\n",
       "      <th>Variable</th>\n",
       "      <th>VIF</th>\n",
       "    </tr>\n",
       "  </thead>\n",
       "  <tbody>\n",
       "    <tr>\n",
       "      <td>0</td>\n",
       "      <td>poverty</td>\n",
       "      <td>7.641939</td>\n",
       "    </tr>\n",
       "    <tr>\n",
       "      <td>1</td>\n",
       "      <td>income</td>\n",
       "      <td>6.442863</td>\n",
       "    </tr>\n",
       "    <tr>\n",
       "      <td>2</td>\n",
       "      <td>physicians</td>\n",
       "      <td>2.112659</td>\n",
       "    </tr>\n",
       "    <tr>\n",
       "      <td>3</td>\n",
       "      <td>selfharm</td>\n",
       "      <td>1.754352</td>\n",
       "    </tr>\n",
       "    <tr>\n",
       "      <td>4</td>\n",
       "      <td>uninsured</td>\n",
       "      <td>2.201502</td>\n",
       "    </tr>\n",
       "  </tbody>\n",
       "</table>\n",
       "</div>"
      ],
      "text/plain": [
       "     Variable       VIF\n",
       "0     poverty  7.641939\n",
       "1      income  6.442863\n",
       "2  physicians  2.112659\n",
       "3    selfharm  1.754352\n",
       "4   uninsured  2.201502"
      ]
     },
     "execution_count": 22,
     "metadata": {},
     "output_type": "execute_result"
    }
   ],
   "source": [
    "indepvars = [ 'poverty', 'income', 'physicians', 'selfharm', 'uninsured' ]\n",
    "##\n",
    "## invert the correlation matrix and extract the main diaginal\n",
    "##\n",
    "x = np.diag( np.linalg.inv( corr_matrix ) ) \n",
    "##\n",
    "## zip the variable names and the VIFs\n",
    "##\n",
    "xzip = zip( indepvars, x ) \n",
    "##\n",
    "## display the zip matrix\n",
    "##\n",
    "df_vif = pd.DataFrame( list( xzip ), columns =[ 'Variable', 'VIF' ] )\n",
    "df_vif"
   ]
  },
  {
   "cell_type": "markdown",
   "metadata": {},
   "source": [
    "## <font color = blue> Additional Models </font> "
   ]
  },
  {
   "cell_type": "code",
   "execution_count": 23,
   "metadata": {},
   "outputs": [
    {
     "name": "stdout",
     "output_type": "stream",
     "text": [
      "                            OLS Regression Results                            \n",
      "==============================================================================\n",
      "Dep. Variable:             lifeExpect   R-squared:                       0.266\n",
      "Model:                            OLS   Adj. R-squared:                  0.251\n",
      "Method:                 Least Squares   F-statistic:                     17.38\n",
      "Date:                Thu, 30 Apr 2020   Prob (F-statistic):           0.000127\n",
      "Time:                        21:27:01   Log-Likelihood:                -75.624\n",
      "No. Observations:                  50   AIC:                             155.2\n",
      "Df Residuals:                      48   BIC:                             159.1\n",
      "Df Model:                           1                                         \n",
      "Covariance Type:            nonrobust                                         \n",
      "==============================================================================\n",
      "                 coef    std err          t      P>|t|      [0.025      0.975]\n",
      "------------------------------------------------------------------------------\n",
      "Intercept     78.0787      0.602    129.723      0.000      76.869      79.289\n",
      "uninsured     -0.1701      0.041     -4.169      0.000      -0.252      -0.088\n",
      "==============================================================================\n",
      "Omnibus:                       10.497   Durbin-Watson:                   2.340\n",
      "Prob(Omnibus):                  0.005   Jarque-Bera (JB):                2.968\n",
      "Skew:                          -0.125   Prob(JB):                        0.227\n",
      "Kurtosis:                       1.833   Cond. No.                         56.3\n",
      "==============================================================================\n",
      "\n",
      "Warnings:\n",
      "[1] Standard Errors assume that the covariance matrix of the errors is correctly specified.\n"
     ]
    }
   ],
   "source": [
    "## regression model \n",
    "formula = 'lifeExpect ~  uninsured'\n",
    "mod = smf.ols( formula, data = df_subset )\n",
    "reg03 = mod.fit()\n",
    "print( reg03.summary() )"
   ]
  },
  {
   "cell_type": "code",
   "execution_count": 24,
   "metadata": {},
   "outputs": [
    {
     "name": "stdout",
     "output_type": "stream",
     "text": [
      "                            OLS Regression Results                            \n",
      "==============================================================================\n",
      "Dep. Variable:             lifeExpect   R-squared:                       0.632\n",
      "Model:                            OLS   Adj. R-squared:                  0.590\n",
      "Method:                 Least Squares   F-statistic:                     15.11\n",
      "Date:                Thu, 30 Apr 2020   Prob (F-statistic):           1.23e-08\n",
      "Time:                        21:28:44   Log-Likelihood:                -58.357\n",
      "No. Observations:                  50   AIC:                             128.7\n",
      "Df Residuals:                      44   BIC:                             140.2\n",
      "Df Model:                           5                                         \n",
      "Covariance Type:            nonrobust                                         \n",
      "==========================================================================================\n",
      "                             coef    std err          t      P>|t|      [0.025      0.975]\n",
      "------------------------------------------------------------------------------------------\n",
      "Intercept                 78.8835      0.708    111.420      0.000      77.457      80.310\n",
      "C(region)[T.Northeast]    -0.5329      0.383     -1.393      0.171      -1.304       0.238\n",
      "C(region)[T.South]        -1.2372      0.374     -3.306      0.002      -1.991      -0.483\n",
      "C(region)[T.West]          0.3786      0.390      0.971      0.337      -0.407       1.165\n",
      "poverty                   -0.1074      0.054     -1.999      0.052      -0.216       0.001\n",
      "uninsured                 -0.0951      0.045     -2.127      0.039      -0.185      -0.005\n",
      "==============================================================================\n",
      "Omnibus:                        0.375   Durbin-Watson:                   2.330\n",
      "Prob(Omnibus):                  0.829   Jarque-Bera (JB):                0.184\n",
      "Skew:                          -0.148   Prob(JB):                        0.912\n",
      "Kurtosis:                       2.979   Cond. No.                         128.\n",
      "==============================================================================\n",
      "\n",
      "Warnings:\n",
      "[1] Standard Errors assume that the covariance matrix of the errors is correctly specified.\n"
     ]
    }
   ],
   "source": [
    "formula = 'lifeExpect ~ poverty + uninsured + C(region)'\n",
    "mod = smf.ols( formula, data = df_subset )\n",
    "reg04 = mod.fit()\n",
    "print( reg04.summary() )"
   ]
  },
  {
   "cell_type": "markdown",
   "metadata": {},
   "source": [
    "## <font color = blue> Restricted Model </font> "
   ]
  },
  {
   "cell_type": "code",
   "execution_count": 26,
   "metadata": {},
   "outputs": [
    {
     "name": "stdout",
     "output_type": "stream",
     "text": [
      "                            OLS Regression Results                            \n",
      "==============================================================================\n",
      "Dep. Variable:             lifeExpect   R-squared:                      -0.000\n",
      "Model:                            OLS   Adj. R-squared:                 -0.000\n",
      "Method:                 Least Squares   F-statistic:                      -inf\n",
      "Date:                Thu, 30 Apr 2020   Prob (F-statistic):                nan\n",
      "Time:                        21:29:30   Log-Likelihood:                -83.350\n",
      "No. Observations:                  50   AIC:                             168.7\n",
      "Df Residuals:                      49   BIC:                             170.6\n",
      "Df Model:                           0                                         \n",
      "Covariance Type:            nonrobust                                         \n",
      "==============================================================================\n",
      "                 coef    std err          t      P>|t|      [0.025      0.975]\n",
      "------------------------------------------------------------------------------\n",
      "Intercept     75.6580      0.183    413.257      0.000      75.290      76.026\n",
      "==============================================================================\n",
      "Omnibus:                        2.469   Durbin-Watson:                   2.502\n",
      "Prob(Omnibus):                  0.291   Jarque-Bera (JB):                1.519\n",
      "Skew:                          -0.144   Prob(JB):                        0.468\n",
      "Kurtosis:                       2.196   Cond. No.                         1.00\n",
      "==============================================================================\n",
      "\n",
      "Warnings:\n",
      "[1] Standard Errors assume that the covariance matrix of the errors is correctly specified.\n"
     ]
    }
   ],
   "source": [
    "formula = 'lifeExpect ~  1'\n",
    "mod = smf.ols( formula, data = df_subset )\n",
    "reg05 = mod.fit()\n",
    "print( reg05.summary() )"
   ]
  },
  {
   "cell_type": "markdown",
   "metadata": {},
   "source": [
    "## <font color = blue> Heteroskedasticity </font> "
   ]
  },
  {
   "cell_type": "code",
   "execution_count": 29,
   "metadata": {},
   "outputs": [
    {
     "name": "stdout",
     "output_type": "stream",
     "text": [
      "            Intercept    poverty   income  physicians  selfharm  uninsured\n",
      "state                                                                     \n",
      "Alabama           1.0  17.535426  42143.5  218.000352      12.5       13.6\n",
      "Alaska            1.0   9.034571  62675.0  225.348725      22.1       18.6\n",
      "Arizona           1.0  16.522268  46237.5  213.030214      16.1       19.1\n",
      "Arkansas          1.0  18.794279  37987.0  204.260326      14.3       17.7\n",
      "California        1.0  14.166614  56466.0  270.905011       9.8       18.9\n",
      "\n",
      "\n",
      "state\n",
      "Alabama      -1.448488\n",
      "Alaska       -1.994531\n",
      "Arizona       1.217919\n",
      "Arkansas     -0.062941\n",
      "California    0.875630\n",
      "dtype: float64\n",
      "\n",
      "White's Test for Heteroskedasticity\n"
     ]
    },
    {
     "data": {
      "text/html": [
       "<div>\n",
       "<style scoped>\n",
       "    .dataframe tbody tr th:only-of-type {\n",
       "        vertical-align: middle;\n",
       "    }\n",
       "\n",
       "    .dataframe tbody tr th {\n",
       "        vertical-align: top;\n",
       "    }\n",
       "\n",
       "    .dataframe thead th {\n",
       "        text-align: right;\n",
       "    }\n",
       "</style>\n",
       "<table border=\"1\" class=\"dataframe\">\n",
       "  <thead>\n",
       "    <tr style=\"text-align: right;\">\n",
       "      <th></th>\n",
       "      <th>Stats</th>\n",
       "      <th>Values</th>\n",
       "    </tr>\n",
       "  </thead>\n",
       "  <tbody>\n",
       "    <tr>\n",
       "      <td>0</td>\n",
       "      <td>Lagrange Multiplier Test Statistic</td>\n",
       "      <td>32.302013</td>\n",
       "    </tr>\n",
       "    <tr>\n",
       "      <td>1</td>\n",
       "      <td>p-Value</td>\n",
       "      <td>0.040185</td>\n",
       "    </tr>\n",
       "    <tr>\n",
       "      <td>2</td>\n",
       "      <td>F-Statistic</td>\n",
       "      <td>2.646511</td>\n",
       "    </tr>\n",
       "    <tr>\n",
       "      <td>3</td>\n",
       "      <td>p-Value</td>\n",
       "      <td>0.008350</td>\n",
       "    </tr>\n",
       "  </tbody>\n",
       "</table>\n",
       "</div>"
      ],
      "text/plain": [
       "                                Stats     Values\n",
       "0  Lagrange Multiplier Test Statistic  32.302013\n",
       "1                             p-Value   0.040185\n",
       "2                         F-Statistic   2.646511\n",
       "3                             p-Value   0.008350"
      ]
     },
     "execution_count": 29,
     "metadata": {},
     "output_type": "execute_result"
    }
   ],
   "source": [
    "X = reg02.model.data.orig_exog ##.iloc[ :, 1: ]\n",
    "print( X.head() )\n",
    "print( '\\n' )\n",
    "print( reg02.resid.head() )\n",
    "white = sm.stats.diagnostic.het_white( reg02.resid, X )\n",
    "##\n",
    "## return white stats\n",
    "##\n",
    "ret = [ 'Lagrange Multiplier Test Statistic', 'p-Value', 'F-Statistic', 'p-Value' ]\n",
    "xzip01 = zip( ret, white ) \n",
    "##\n",
    "## display the zip matrix\n",
    "##\n",
    "print( \"\\nWhite's Test for Heteroskedasticity\" )\n",
    "df_white = pd.DataFrame( list( xzip01 ), columns = [ 'Stats', 'Values' ] )\n",
    "df_white"
   ]
  },
  {
   "cell_type": "code",
   "execution_count": 28,
   "metadata": {},
   "outputs": [
    {
     "name": "stdout",
     "output_type": "stream",
     "text": [
      "                            OLS Regression Results                            \n",
      "==============================================================================\n",
      "Dep. Variable:             lifeExpect   R-squared:                       0.610\n",
      "Model:                            OLS   Adj. R-squared:                  0.567\n",
      "Method:                 Least Squares   F-statistic:                     8.887\n",
      "Date:                Thu, 30 Apr 2020   Prob (F-statistic):           6.31e-06\n",
      "Time:                        21:42:32   Log-Likelihood:                -74.043\n",
      "No. Observations:                  51   AIC:                             160.1\n",
      "Df Residuals:                      45   BIC:                             171.7\n",
      "Df Model:                           5                                         \n",
      "Covariance Type:                  HC1                                         \n",
      "==============================================================================\n",
      "                 coef    std err          z      P>|z|      [0.025      0.975]\n",
      "------------------------------------------------------------------------------\n",
      "Intercept     82.9713      4.111     20.183      0.000      74.914      91.029\n",
      "poverty       -0.2664      0.129     -2.066      0.039      -0.519      -0.014\n",
      "income      7.962e-06   4.81e-05      0.166      0.868   -8.63e-05       0.000\n",
      "physicians    -0.0094      0.003     -3.500      0.000      -0.015      -0.004\n",
      "selfharm       0.0120      0.075      0.160      0.873      -0.136       0.160\n",
      "uninsured     -0.1230      0.066     -1.861      0.063      -0.253       0.007\n",
      "==============================================================================\n",
      "Omnibus:                        2.195   Durbin-Watson:                   2.215\n",
      "Prob(Omnibus):                  0.334   Jarque-Bera (JB):                1.512\n",
      "Skew:                          -0.189   Prob(JB):                        0.470\n",
      "Kurtosis:                       2.246   Cond. No.                     1.27e+06\n",
      "==============================================================================\n",
      "\n",
      "Warnings:\n",
      "[1] Standard Errors are heteroscedasticity robust (HC1)\n",
      "[2] The condition number is large, 1.27e+06. This might indicate that there are\n",
      "strong multicollinearity or other numerical problems.\n"
     ]
    }
   ],
   "source": [
    "##\n",
    "## fixing standard errors using HC1 for covariance type\n",
    "##\n",
    "formula = 'lifeExpect ~ poverty + income + physicians + selfharm + uninsured'\n",
    "##\n",
    "## specify HC1 in the fit() function\n",
    "##\n",
    "reg06 = smf.ols( formula, data = df ).fit( cov_type = 'HC1' )\n",
    "print( reg06.summary() )"
   ]
  },
  {
   "cell_type": "markdown",
   "metadata": {},
   "source": [
    "## <font color = blue> Model Portfolio  </font> "
   ]
  },
  {
   "cell_type": "code",
   "execution_count": 33,
   "metadata": {},
   "outputs": [
    {
     "name": "stdout",
     "output_type": "stream",
     "text": [
      "             Summary Table for Life Expectancy Models\n",
      "===================================================================\n",
      "                       Model 1  Model 2  Model 3  Model 4  Model 5 \n",
      "-------------------------------------------------------------------\n",
      "C(region)[T.Northeast] -0.51                      -0.53            \n",
      "                       (0.47)                     (0.38)           \n",
      "C(region)[T.South]     -1.21***                   -1.24***         \n",
      "                       (0.40)                     (0.37)           \n",
      "C(region)[T.West]      0.57                       0.38             \n",
      "                       (0.51)                     (0.39)           \n",
      "Intercept              80.74*** 76.90*** 78.08*** 78.88*** 75.66***\n",
      "                       (3.90)   (4.03)   (0.60)   (0.71)   (0.18)  \n",
      "income                 -0.00    0.00                               \n",
      "                       (0.00)   (0.00)                             \n",
      "physicians             -0.00    -0.00                              \n",
      "                       (0.00)   (0.00)                             \n",
      "poverty                -0.14    -0.11             -0.11*           \n",
      "                       (0.11)   (0.13)            (0.05)           \n",
      "selfharm               -0.04    0.07                               \n",
      "                       (0.06)   (0.06)                             \n",
      "uninsured              -0.09*   -0.14**  -0.17*** -0.10**          \n",
      "                       (0.05)   (0.05)   (0.04)   (0.04)           \n",
      "\n",
      "n                     50       50       50       50       50      \n",
      "R2 Adjusted            0.564    0.393    0.251    0.590    -0.000  \n",
      "AIC                    134.24   148.35   155.25   128.71   168.70  \n",
      "F                      8.93     7.35     17.38    15.11    -inf    \n",
      "===================================================================\n",
      "Standard errors in parentheses.\n",
      "* p<.1, ** p<.05, ***p<.01\n"
     ]
    }
   ],
   "source": [
    "##\n",
    "## create a variable to hold the model names; this is a list\n",
    "## \n",
    "model_names = [ 'Model ' + str( i ) for i in range( 1, 6 ) ]\n",
    "##\n",
    "## create a variable to hold the statistics to print; this is a dictionary\n",
    "##\n",
    "info_dict = { '\\nn': lambda x: \"{0:d}\".format( int( x.nobs ) ),\n",
    "              'R2 Adjusted': lambda x: \"{:0.3f}\".format( x.rsquared_adj ),\n",
    "              'AIC': lambda x: \"{:0.2f}\".format( x.aic ),\n",
    "              'F': lambda x: \"{:0.2f}\".format( x.fvalue ),\n",
    "}\n",
    "##\n",
    "## create the portfolio summary table\n",
    "##\n",
    "summary_table = summary_col( [ reg01, reg02, reg03, reg04, reg05 ],\n",
    "            float_format = '%0.2f',\n",
    "            model_names = model_names,\n",
    "            stars = True, \n",
    "            info_dict = info_dict \n",
    ")\n",
    "summary_table.add_title( 'Summary Table for Life Expectancy Models' )\n",
    "print( summary_table )"
   ]
  },
  {
   "cell_type": "markdown",
   "metadata": {},
   "source": [
    "## <font color = blue> Elasticities </font> "
   ]
  },
  {
   "cell_type": "code",
   "execution_count": 35,
   "metadata": {},
   "outputs": [
    {
     "name": "stdout",
     "output_type": "stream",
     "text": [
      "[-0.01144214  0.02475523  0.00527641]\n"
     ]
    }
   ],
   "source": [
    "## Income\n",
    "slopes = [ reg01.params.income,  reg02.params.income, reg06.params.income]\n",
    "mean_ray = df_subset.income.mean()/df_subset.lifeExpect.mean()\n",
    "eta = np.array( slopes ) * mean_ray\n",
    "print( eta )"
   ]
  },
  {
   "cell_type": "code",
   "execution_count": 36,
   "metadata": {},
   "outputs": [
    {
     "name": "stdout",
     "output_type": "stream",
     "text": [
      "[-0.02613291 -0.0207133  -0.01953296 -0.04845937]\n"
     ]
    }
   ],
   "source": [
    "## Poverty \n",
    "slopes = [ reg01.params.poverty,  reg02.params.poverty, reg04.params.poverty, reg06.params.poverty]\n",
    "mean_ray = df_subset.poverty.mean()/df_subset.lifeExpect.mean()\n",
    "eta = np.array( slopes ) * mean_ray\n",
    "print( eta )"
   ]
  },
  {
   "cell_type": "code",
   "execution_count": 37,
   "metadata": {},
   "outputs": [
    {
     "name": "stdout",
     "output_type": "stream",
     "text": [
      "[-0.016902   -0.02548797 -0.03199593 -0.01789989 -0.023145  ]\n"
     ]
    }
   ],
   "source": [
    "## Uninsured Rate\n",
    "slopes = [ reg01.params.uninsured,  reg02.params.uninsured,reg03.params.uninsured, reg04.params.uninsured, reg06.params.uninsured]\n",
    "mean_ray = df_subset.uninsured.mean()/df_subset.lifeExpect.mean()\n",
    "eta = np.array( slopes ) * mean_ray\n",
    "print( eta )"
   ]
  },
  {
   "cell_type": "code",
   "execution_count": 38,
   "metadata": {},
   "outputs": [
    {
     "name": "stdout",
     "output_type": "stream",
     "text": [
      "[-0.0019274  -0.0072216  -0.03278486]\n"
     ]
    }
   ],
   "source": [
    "## Physicians\n",
    "slopes = [ reg01.params.physicians,  reg02.params.physicians, reg06.params.physicians]\n",
    "mean_ray = df_subset.physicians.mean()/df_subset.lifeExpect.mean()\n",
    "eta = np.array( slopes ) * mean_ray\n",
    "print( eta )"
   ]
  },
  {
   "cell_type": "code",
   "execution_count": 39,
   "metadata": {},
   "outputs": [
    {
     "name": "stdout",
     "output_type": "stream",
     "text": [
      "[-0.00635293  0.01221539  0.00203178]\n"
     ]
    }
   ],
   "source": [
    "## Self-harm Rate \n",
    "slopes = [ reg01.params.selfharm,  reg02.params.selfharm, reg06.params.selfharm]\n",
    "mean_ray = df_subset.selfharm.mean()/df_subset.lifeExpect.mean()\n",
    "eta = np.array( slopes ) * mean_ray\n",
    "print( eta )"
   ]
  },
  {
   "cell_type": "markdown",
   "metadata": {},
   "source": [
    "# <font color = red> Final Analysis and Conclusions </font>"
   ]
  },
  {
   "cell_type": "markdown",
   "metadata": {},
   "source": [
    "Beginning with the graphs, we can decipher a strong negative relationship between life expectancy and the uninsured rate, and a somewhat negative relationship between life expectancy and poverty. There was also a slight positive relationship between life expectancy and income. This is what we expected- health and length of life are often correlated with wealth. Looking at the graphs correlating our dependent variable with the number of active physicians and the self-harm rate, there was not a meaningful relationship to be found. \n",
    "\n",
    "The correlation matrix shows a somewhat strong negative correlation between poverty rate and income, with a value of -0.889013. This was expected since intuitively these variables do exhibit some level of multicollinearity. In order to examine the degree of collinearity, we calculated the variance inflation factors. Since all VIFs were less than 10, we can say that there is not a high degree of collinearity. \n",
    "\n",
    "Since this data is cross-sectional, there was also a test conducted for heteroskedasticity. Using White's Test, we found that the p-values were both less than 0.05. So we can reject heteroskedasticity. The variance of the\n",
    "disturbance term is constant, keeping in line with our Classical Assumptions. \n",
    "\n",
    "Next, we tested the null hypothesis for the regional dummy variables. The p-value for the F-test implied that $H_0$ can be rejected for the regional dummy variables- all $\\gamma_i$ are not equal to zero. So the dummy variables are statistically significant. \n",
    "\n",
    "In analyzing our model portfolio, we can determine that Model 4 is the best at explaining life expectancy. It includes the dummy variables for region, and two independent variables: percent of people below the poverty line and the uninsured rate. Several factors were taken into account. First, Model 4 has the largest adjusted R-squared value of 0.590. This means that 59% of the differences in life expectancy can be explained by the variables in this model. Additionally, the F-statistic showed a similar picture. The p-value of the F-Test for Model 4 was 1.23e-08, which was the lowest of all the models. The AIC, or \"badness\" of fit, also points to this model being the best because its AIC value of 128.71 was the lowest of all the models. \n",
    "\n",
    "Using Model 4 in our analysis, we can definitively reject the null hypothesis for uninsured rate. There is a statistically significant negative relationship between life expectancy and lack of health insurance coverage. As for the other variables, we cannot reject the null hypothesis. \n",
    "\n",
    "Scanning the calculated elasticities, we can say that life expectancy is inelastic with respect to each variable. None of the absolute values of the elasticities are greater than 1. \n",
    "\n",
    "In conclusion, we determined that we can reject the null hypothesis for the regional dummy variables and the uninsured rate. These variables are important in our analysis on life expectancy. States with more uninsured people have a lower life expectancy. Over the past few years, life expectancy in the US has been decreasing, and working with this model has several practical benefits in examining the reasons behind this trend. Many Americans get health insurance through their employer, so there may be negative effects that the recent increase in unemployment due to the pandemic would have on the overall health of Americans- even those who don't contract the virus. "
   ]
  }
 ],
 "metadata": {
  "kernelspec": {
   "display_name": "Python 3",
   "language": "python",
   "name": "python3"
  },
  "language_info": {
   "codemirror_mode": {
    "name": "ipython",
    "version": 3
   },
   "file_extension": ".py",
   "mimetype": "text/x-python",
   "name": "python",
   "nbconvert_exporter": "python",
   "pygments_lexer": "ipython3",
   "version": "3.7.4"
  }
 },
 "nbformat": 4,
 "nbformat_minor": 2
}
